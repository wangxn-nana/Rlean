{
 "cells": [
  {
   "cell_type": "markdown",
   "metadata": {},
   "source": [
    "# 导入csv文件"
   ]
  },
  {
   "cell_type": "code",
   "execution_count": 31,
   "metadata": {},
   "outputs": [],
   "source": [
    "哈哈哈 = read.table(\"/Users/wangxiaona/Desktop/grade_result.csv\", sep=\",\", header = T)"
   ]
  },
  {
   "cell_type": "code",
   "execution_count": 32,
   "metadata": {},
   "outputs": [
    {
     "data": {
      "text/html": [
       "<table>\n",
       "<caption>A df[,5]: 3 × 5</caption>\n",
       "<thead>\n",
       "\t<tr><th scope=col>班级</th><th scope=col>姓名</th><th scope=col>性别</th><th scope=col>语文</th><th scope=col>数学</th></tr>\n",
       "\t<tr><th scope=col>&lt;int&gt;</th><th scope=col>&lt;fct&gt;</th><th scope=col>&lt;fct&gt;</th><th scope=col>&lt;int&gt;</th><th scope=col>&lt;int&gt;</th></tr>\n",
       "</thead>\n",
       "<tbody>\n",
       "\t<tr><td>1</td><td>王一</td><td>男</td><td>96</td><td>98</td></tr>\n",
       "\t<tr><td>1</td><td>王二</td><td>女</td><td>95</td><td>93</td></tr>\n",
       "\t<tr><td>1</td><td>王三</td><td>男</td><td>97</td><td>92</td></tr>\n",
       "</tbody>\n",
       "</table>\n"
      ],
      "text/latex": [
       "A df[,5]: 3 × 5\n",
       "\\begin{tabular}{r|lllll}\n",
       " 班级 & 姓名 & 性别 & 语文 & 数学\\\\\n",
       " <int> & <fct> & <fct> & <int> & <int>\\\\\n",
       "\\hline\n",
       "\t 1 & 王一 & 男 & 96 & 98\\\\\n",
       "\t 1 & 王二 & 女 & 95 & 93\\\\\n",
       "\t 1 & 王三 & 男 & 97 & 92\\\\\n",
       "\\end{tabular}\n"
      ],
      "text/markdown": [
       "\n",
       "A df[,5]: 3 × 5\n",
       "\n",
       "| 班级 &lt;int&gt; | 姓名 &lt;fct&gt; | 性别 &lt;fct&gt; | 语文 &lt;int&gt; | 数学 &lt;int&gt; |\n",
       "|---|---|---|---|---|\n",
       "| 1 | 王一 | 男 | 96 | 98 |\n",
       "| 1 | 王二 | 女 | 95 | 93 |\n",
       "| 1 | 王三 | 男 | 97 | 92 |\n",
       "\n"
      ],
      "text/plain": [
       "  班级 姓名 性别 语文 数学\n",
       "1 1    王一 男   96   98  \n",
       "2 1    王二 女   95   93  \n",
       "3 1    王三 男   97   92  "
      ]
     },
     "metadata": {},
     "output_type": "display_data"
    }
   ],
   "source": [
    "哈哈哈[1:3, ]"
   ]
  },
  {
   "cell_type": "code",
   "execution_count": 27,
   "metadata": {},
   "outputs": [],
   "source": [
    "grade2 = read.csv(\"/Users/wangxiaona/Desktop/grade_result.csv\", header = T)"
   ]
  },
  {
   "cell_type": "code",
   "execution_count": 33,
   "metadata": {},
   "outputs": [
    {
     "data": {
      "text/html": [
       "<table>\n",
       "<caption>A df[,5]: 6 × 5</caption>\n",
       "<thead>\n",
       "\t<tr><th scope=col>班级</th><th scope=col>姓名</th><th scope=col>性别</th><th scope=col>语文</th><th scope=col>数学</th></tr>\n",
       "\t<tr><th scope=col>&lt;int&gt;</th><th scope=col>&lt;fct&gt;</th><th scope=col>&lt;fct&gt;</th><th scope=col>&lt;int&gt;</th><th scope=col>&lt;int&gt;</th></tr>\n",
       "</thead>\n",
       "<tbody>\n",
       "\t<tr><td>1</td><td>王一</td><td>男</td><td>96</td><td>98</td></tr>\n",
       "\t<tr><td>1</td><td>王二</td><td>女</td><td>95</td><td>93</td></tr>\n",
       "\t<tr><td>1</td><td>王三</td><td>男</td><td>97</td><td>92</td></tr>\n",
       "\t<tr><td>1</td><td>王四</td><td>女</td><td>90</td><td>96</td></tr>\n",
       "\t<tr><td>1</td><td>王五</td><td>男</td><td>91</td><td>93</td></tr>\n",
       "\t<tr><td>1</td><td>王六</td><td>女</td><td>96</td><td>94</td></tr>\n",
       "</tbody>\n",
       "</table>\n"
      ],
      "text/latex": [
       "A df[,5]: 6 × 5\n",
       "\\begin{tabular}{r|lllll}\n",
       " 班级 & 姓名 & 性别 & 语文 & 数学\\\\\n",
       " <int> & <fct> & <fct> & <int> & <int>\\\\\n",
       "\\hline\n",
       "\t 1 & 王一 & 男 & 96 & 98\\\\\n",
       "\t 1 & 王二 & 女 & 95 & 93\\\\\n",
       "\t 1 & 王三 & 男 & 97 & 92\\\\\n",
       "\t 1 & 王四 & 女 & 90 & 96\\\\\n",
       "\t 1 & 王五 & 男 & 91 & 93\\\\\n",
       "\t 1 & 王六 & 女 & 96 & 94\\\\\n",
       "\\end{tabular}\n"
      ],
      "text/markdown": [
       "\n",
       "A df[,5]: 6 × 5\n",
       "\n",
       "| 班级 &lt;int&gt; | 姓名 &lt;fct&gt; | 性别 &lt;fct&gt; | 语文 &lt;int&gt; | 数学 &lt;int&gt; |\n",
       "|---|---|---|---|---|\n",
       "| 1 | 王一 | 男 | 96 | 98 |\n",
       "| 1 | 王二 | 女 | 95 | 93 |\n",
       "| 1 | 王三 | 男 | 97 | 92 |\n",
       "| 1 | 王四 | 女 | 90 | 96 |\n",
       "| 1 | 王五 | 男 | 91 | 93 |\n",
       "| 1 | 王六 | 女 | 96 | 94 |\n",
       "\n"
      ],
      "text/plain": [
       "  班级 姓名 性别 语文 数学\n",
       "1 1    王一 男   96   98  \n",
       "2 1    王二 女   95   93  \n",
       "3 1    王三 男   97   92  \n",
       "4 1    王四 女   90   96  \n",
       "5 1    王五 男   91   93  \n",
       "6 1    王六 女   96   94  "
      ]
     },
     "metadata": {},
     "output_type": "display_data"
    }
   ],
   "source": [
    "head(grade2)"
   ]
  },
  {
   "cell_type": "code",
   "execution_count": 37,
   "metadata": {},
   "outputs": [
    {
     "ename": "ERROR",
     "evalue": "Error in parse(text = x, srcfile = src): <text>:1:9: unexpected symbol\n1: 班级  姓名\n            ^\n",
     "output_type": "error",
     "traceback": [
      "Error in parse(text = x, srcfile = src): <text>:1:9: unexpected symbol\n1: 班级  姓名\n            ^\nTraceback:\n"
     ]
    }
   ],
   "source": [
    "班级\t姓名\t性别\t语文\t数学\n",
    "1\t王一\t男\t96\t98\n",
    "1\t王二\t女\t95\t93\n",
    "1\t王三\t男\t97\t92\n",
    "1\t王四\t女\t90\t96\n",
    "1\t王五\t男\t91\t93\n",
    "1\t王六\t女\t96\t94\n",
    "1\t王七\t男\t96\t95\n",
    "1\t王八\t女\t93\t99\n",
    "1\t王九\t男\t100\t96\n",
    "1\t王十\t女\t91\t92\n",
    "2\t小一\t男\t97\t92\n",
    "2\t小二\t女\t95\t100\n",
    "2\t小三\t男\t96\t98\n",
    "2\t小四\t女\t96\t93\n",
    "2\t小五\t男\t94\t95\n"
   ]
  },
  {
   "cell_type": "code",
   "execution_count": 38,
   "metadata": {},
   "outputs": [
    {
     "data": {
      "text/html": [
       "<table>\n",
       "<caption>A df[,5]: 15 × 5</caption>\n",
       "<thead>\n",
       "\t<tr><th scope=col>班级</th><th scope=col>姓名</th><th scope=col>性别</th><th scope=col>语文</th><th scope=col>数学</th></tr>\n",
       "\t<tr><th scope=col>&lt;int&gt;</th><th scope=col>&lt;fct&gt;</th><th scope=col>&lt;fct&gt;</th><th scope=col>&lt;int&gt;</th><th scope=col>&lt;int&gt;</th></tr>\n",
       "</thead>\n",
       "<tbody>\n",
       "\t<tr><td>1</td><td>王一</td><td>男</td><td> 96</td><td> 98</td></tr>\n",
       "\t<tr><td>1</td><td>王二</td><td>女</td><td> 95</td><td> 93</td></tr>\n",
       "\t<tr><td>1</td><td>王三</td><td>男</td><td> 97</td><td> 92</td></tr>\n",
       "\t<tr><td>1</td><td>王四</td><td>女</td><td> 90</td><td> 96</td></tr>\n",
       "\t<tr><td>1</td><td>王五</td><td>男</td><td> 91</td><td> 93</td></tr>\n",
       "\t<tr><td>1</td><td>王六</td><td>女</td><td> 96</td><td> 94</td></tr>\n",
       "\t<tr><td>1</td><td>王七</td><td>男</td><td> 96</td><td> 95</td></tr>\n",
       "\t<tr><td>1</td><td>王八</td><td>女</td><td> 93</td><td> 99</td></tr>\n",
       "\t<tr><td>1</td><td>王九</td><td>男</td><td>100</td><td> 96</td></tr>\n",
       "\t<tr><td>1</td><td>王十</td><td>女</td><td> 91</td><td> 92</td></tr>\n",
       "\t<tr><td>2</td><td>小一</td><td>男</td><td> 97</td><td> 92</td></tr>\n",
       "\t<tr><td>2</td><td>小二</td><td>女</td><td> 95</td><td>100</td></tr>\n",
       "\t<tr><td>2</td><td>小三</td><td>男</td><td> 96</td><td> 98</td></tr>\n",
       "\t<tr><td>2</td><td>小四</td><td>女</td><td> 96</td><td> 93</td></tr>\n",
       "\t<tr><td>2</td><td>小五</td><td>男</td><td> 94</td><td> 95</td></tr>\n",
       "</tbody>\n",
       "</table>\n"
      ],
      "text/latex": [
       "A df[,5]: 15 × 5\n",
       "\\begin{tabular}{r|lllll}\n",
       " 班级 & 姓名 & 性别 & 语文 & 数学\\\\\n",
       " <int> & <fct> & <fct> & <int> & <int>\\\\\n",
       "\\hline\n",
       "\t 1 & 王一 & 男 &  96 &  98\\\\\n",
       "\t 1 & 王二 & 女 &  95 &  93\\\\\n",
       "\t 1 & 王三 & 男 &  97 &  92\\\\\n",
       "\t 1 & 王四 & 女 &  90 &  96\\\\\n",
       "\t 1 & 王五 & 男 &  91 &  93\\\\\n",
       "\t 1 & 王六 & 女 &  96 &  94\\\\\n",
       "\t 1 & 王七 & 男 &  96 &  95\\\\\n",
       "\t 1 & 王八 & 女 &  93 &  99\\\\\n",
       "\t 1 & 王九 & 男 & 100 &  96\\\\\n",
       "\t 1 & 王十 & 女 &  91 &  92\\\\\n",
       "\t 2 & 小一 & 男 &  97 &  92\\\\\n",
       "\t 2 & 小二 & 女 &  95 & 100\\\\\n",
       "\t 2 & 小三 & 男 &  96 &  98\\\\\n",
       "\t 2 & 小四 & 女 &  96 &  93\\\\\n",
       "\t 2 & 小五 & 男 &  94 &  95\\\\\n",
       "\\end{tabular}\n"
      ],
      "text/markdown": [
       "\n",
       "A df[,5]: 15 × 5\n",
       "\n",
       "| 班级 &lt;int&gt; | 姓名 &lt;fct&gt; | 性别 &lt;fct&gt; | 语文 &lt;int&gt; | 数学 &lt;int&gt; |\n",
       "|---|---|---|---|---|\n",
       "| 1 | 王一 | 男 |  96 |  98 |\n",
       "| 1 | 王二 | 女 |  95 |  93 |\n",
       "| 1 | 王三 | 男 |  97 |  92 |\n",
       "| 1 | 王四 | 女 |  90 |  96 |\n",
       "| 1 | 王五 | 男 |  91 |  93 |\n",
       "| 1 | 王六 | 女 |  96 |  94 |\n",
       "| 1 | 王七 | 男 |  96 |  95 |\n",
       "| 1 | 王八 | 女 |  93 |  99 |\n",
       "| 1 | 王九 | 男 | 100 |  96 |\n",
       "| 1 | 王十 | 女 |  91 |  92 |\n",
       "| 2 | 小一 | 男 |  97 |  92 |\n",
       "| 2 | 小二 | 女 |  95 | 100 |\n",
       "| 2 | 小三 | 男 |  96 |  98 |\n",
       "| 2 | 小四 | 女 |  96 |  93 |\n",
       "| 2 | 小五 | 男 |  94 |  95 |\n",
       "\n"
      ],
      "text/plain": [
       "   班级 姓名 性别 语文 数学\n",
       "1  1    王一 男    96   98 \n",
       "2  1    王二 女    95   93 \n",
       "3  1    王三 男    97   92 \n",
       "4  1    王四 女    90   96 \n",
       "5  1    王五 男    91   93 \n",
       "6  1    王六 女    96   94 \n",
       "7  1    王七 男    96   95 \n",
       "8  1    王八 女    93   99 \n",
       "9  1    王九 男   100   96 \n",
       "10 1    王十 女    91   92 \n",
       "11 2    小一 男    97   92 \n",
       "12 2    小二 女    95  100 \n",
       "13 2    小三 男    96   98 \n",
       "14 2    小四 女    96   93 \n",
       "15 2    小五 男    94   95 "
      ]
     },
     "metadata": {},
     "output_type": "display_data"
    }
   ],
   "source": [
    "read.csv(pipe(\"pbpaste\"),header = T, sep = \"\\t\" )"
   ]
  },
  {
   "cell_type": "code",
   "execution_count": 39,
   "metadata": {},
   "outputs": [
    {
     "name": "stderr",
     "output_type": "stream",
     "text": [
      "Loading required package: gsubfn\n",
      "Loading required package: proto\n",
      "Warning message in doTryCatch(return(expr), name, parentenv, handler):\n",
      "“无法载入共享目标对象‘/Library/Frameworks/R.framework/Resources/modules//R_X11.so’：:\n",
      "  dlopen(/Library/Frameworks/R.framework/Resources/modules//R_X11.so, 6): Library not loaded: /opt/X11/lib/libSM.6.dylib\n",
      "  Referenced from: /Library/Frameworks/R.framework/Resources/modules//R_X11.so\n",
      "  Reason: image not found”Could not load tcltk.  Will use slower R code instead.\n",
      "Loading required package: RSQLite\n"
     ]
    }
   ],
   "source": [
    "library(sqldf)"
   ]
  },
  {
   "cell_type": "markdown",
   "metadata": {},
   "source": [
    "# 1\n",
    "# 1.1\n",
    "### 1.1.1\n",
    "#### 1.1.1.1"
   ]
  },
  {
   "cell_type": "code",
   "execution_count": 43,
   "metadata": {},
   "outputs": [
    {
     "data": {
      "text/html": [
       "<span style=white-space:pre-wrap>' select * from a where \"dt\" &gt;10  '</span>"
      ],
      "text/latex": [
       "' select * from a where \"dt\" >10  '"
      ],
      "text/markdown": [
       "<span style=white-space:pre-wrap>' select * from a where \"dt\" &gt;10  '</span>"
      ],
      "text/plain": [
       "[1] \" select * from a where \\\"dt\\\" >10  \""
      ]
     },
     "metadata": {},
     "output_type": "display_data"
    }
   ],
   "source": [
    "sqldf(\"LOAD INTO TABLE xxx infile:'/Users/wangxiaona/grade_result.csv terminated by \",\"'  \")\n",
    "# ' select * from a where \"dt\" >10  '"
   ]
  },
  {
   "cell_type": "code",
   "execution_count": null,
   "metadata": {},
   "outputs": [],
   "source": [
    "\"\"\"     \"\"\"\" "
   ]
  }
 ],
 "metadata": {
  "kernelspec": {
   "display_name": "R",
   "language": "R",
   "name": "ir"
  },
  "language_info": {
   "codemirror_mode": "r",
   "file_extension": ".r",
   "mimetype": "text/x-r-source",
   "name": "R",
   "pygments_lexer": "r",
   "version": "3.6.0"
  }
 },
 "nbformat": 4,
 "nbformat_minor": 2
}
